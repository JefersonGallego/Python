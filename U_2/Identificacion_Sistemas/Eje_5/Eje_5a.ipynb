{
 "cells": [
  {
   "cell_type": "code",
   "execution_count": 1,
   "metadata": {},
   "outputs": [],
   "source": [
    "\"\"\"\n",
    "Ejercicio 5 a  - ARX MAX\n",
    "   \n",
    "@authors: Jeferson Gallego Chaverra\n",
    "          Pedro Alejendro Snachez Osorio\n",
    "          Victor Alfonso Moyano Echeverri \n",
    "\"\"\"\n",
    "import numpy as np \n",
    "from control import *\n",
    "import numpy as np \n",
    "from control import *\n"
   ]
  },
  {
   "attachments": {},
   "cell_type": "markdown",
   "metadata": {},
   "source": [
    "## Ejercicio #1"
   ]
  },
  {
   "cell_type": "code",
   "execution_count": 2,
   "metadata": {},
   "outputs": [
    {
     "name": "stdout",
     "output_type": "stream",
     "text": [
      "\n",
      "        1.289 z\n",
      "------------------------\n",
      "z^2 + 0.09831 z + 0.2512\n",
      "\n",
      "dt = 1\n",
      "\n"
     ]
    }
   ],
   "source": [
    "## Definicion de la FTP y su muestreo \n",
    "a = [1.28855,0]\n",
    "b = [1,0.09831,0.25118]\n",
    "T=1\n",
    "gd = tf(a,b,T)\n",
    "print(gd)"
   ]
  },
  {
   "cell_type": "code",
   "execution_count": 3,
   "metadata": {},
   "outputs": [
    {
     "name": "stdout",
     "output_type": "stream",
     "text": [
      "[0.         1.28855    1.16187265 0.85066831 0.91308163 0.98511408\n",
      " 0.96235559 0.94649987]\n"
     ]
    }
   ],
   "source": [
    "t,yd = step_response(gd,7)\n",
    "print(yd)"
   ]
  },
  {
   "cell_type": "code",
   "execution_count": 4,
   "metadata": {},
   "outputs": [
    {
     "name": "stdout",
     "output_type": "stream",
     "text": [
      "[-0.034766   -0.040166    0.04882035 -0.09721131  0.11924837  0.03354492\n",
      " -0.08387959  0.01748313]\n"
     ]
    }
   ],
   "source": [
    "yn = [-0.034766,1.248384,1.210693,0.753457,1.032330,1.018659,0.878476,0.963983]\n",
    "e = yn - yd\n",
    "print(e)"
   ]
  },
  {
   "cell_type": "code",
   "execution_count": 5,
   "metadata": {},
   "outputs": [],
   "source": [
    "matrix = [[0,0,0,0],[0.034766,0,1,-0.034766],[-1.248384,0.034766,1,-0.04016],[-1.210693,-1.248384,1,0.04882],[-0.753457,-1.210693,1,-0.09721],[-1.032330,-0.753457,1,0.119248],[-1.018659,-1.032330,1,0.033544],[-0.878476,-1.018659,1,-0.08387]]"
   ]
  },
  {
   "cell_type": "code",
   "execution_count": 6,
   "metadata": {},
   "outputs": [
    {
     "data": {
      "text/plain": [
       "-1.03233"
      ]
     },
     "execution_count": 6,
     "metadata": {},
     "output_type": "execute_result"
    }
   ],
   "source": [
    "matrix[5][0]"
   ]
  },
  {
   "cell_type": "code",
   "execution_count": 7,
   "metadata": {},
   "outputs": [],
   "source": [
    "matrixT =np.transpose(matrix)"
   ]
  },
  {
   "cell_type": "code",
   "execution_count": 8,
   "metadata": {},
   "outputs": [
    {
     "data": {
      "text/plain": [
       "array([[ 6.46823775,  5.10448956, -6.107233  , -0.02053145],\n",
       "       [ 5.10448956,  5.69651766, -5.228757  ,  0.01630737],\n",
       "       [-6.107233  , -5.228757  ,  7.        , -0.054394  ],\n",
       "       [-0.02053145,  0.01630737, -0.054394  ,  0.03703414]])"
      ]
     },
     "execution_count": 8,
     "metadata": {},
     "output_type": "execute_result"
    }
   ],
   "source": [
    "phi1= np.dot(matrixT,matrix)\n",
    "\n",
    "phi1"
   ]
  },
  {
   "cell_type": "code",
   "execution_count": 9,
   "metadata": {},
   "outputs": [
    {
     "data": {
      "text/plain": [
       "array([[ 1.14386781, -0.32062188,  0.77333855,  1.91117566],\n",
       "       [-0.32062188,  0.65335781,  0.20705155, -0.16133813],\n",
       "       [ 0.77333855,  0.20705155,  0.98610334,  1.78590363],\n",
       "       [ 1.91117566, -0.16133813,  1.78590363, 30.75574813]])"
      ]
     },
     "execution_count": 9,
     "metadata": {},
     "output_type": "execute_result"
    }
   ],
   "source": [
    "phinv= np.linalg.inv(phi1)\n",
    "phinv"
   ]
  },
  {
   "cell_type": "code",
   "execution_count": 10,
   "metadata": {},
   "outputs": [
    {
     "data": {
      "text/plain": [
       "(4, 8)"
      ]
     },
     "execution_count": 10,
     "metadata": {},
     "output_type": "execute_result"
    }
   ],
   "source": [
    "phimax = np.dot(phinv , matrixT)\n",
    "\n",
    "phimax.shape"
   ]
  },
  {
   "cell_type": "code",
   "execution_count": 11,
   "metadata": {},
   "outputs": [
    {
     "data": {
      "text/plain": [
       "array([ 0.06488912,  0.25402927,  1.25732502, -0.53787476])"
      ]
     },
     "execution_count": 11,
     "metadata": {},
     "output_type": "execute_result"
    }
   ],
   "source": [
    "thetaLS = np.dot(phimax, yn)\n",
    "thetaLS"
   ]
  },
  {
   "cell_type": "code",
   "execution_count": 12,
   "metadata": {},
   "outputs": [
    {
     "name": "stdout",
     "output_type": "stream",
     "text": [
      "\n",
      "        1.257 z\n",
      "-----------------------\n",
      "z^2 + 0.06489 z + 0.254\n",
      "\n",
      "dt = 1\n",
      "\n"
     ]
    }
   ],
   "source": [
    "num = [1.25732502,0]\n",
    "den = [1,0.06488912,0.25402927]\n",
    "T=1\n",
    "gd2 = tf(num,den,T)\n",
    "print(gd2)"
   ]
  },
  {
   "cell_type": "code",
   "execution_count": 13,
   "metadata": {},
   "outputs": [
    {
     "name": "stdout",
     "output_type": "stream",
     "text": [
      "[0.         1.25732502 1.17573831 0.86163504 0.90274234 0.97986634\n",
      " 0.96441938 0.94582996]\n"
     ]
    }
   ],
   "source": [
    "t,yd2 = step_response(gd2,7)\n",
    "print(yd2)"
   ]
  },
  {
   "cell_type": "code",
   "execution_count": 14,
   "metadata": {},
   "outputs": [],
   "source": [
    "e2 = yn - yd2"
   ]
  },
  {
   "cell_type": "code",
   "execution_count": 15,
   "metadata": {},
   "outputs": [
    {
     "data": {
      "text/plain": [
       "array([-0.034766  , -0.00894102,  0.03495469, -0.10817804,  0.12958766,\n",
       "        0.03879266, -0.08594338,  0.01815304])"
      ]
     },
     "execution_count": 15,
     "metadata": {},
     "output_type": "execute_result"
    }
   ],
   "source": [
    "e2T = np.transpose(e2)\n",
    "e2T"
   ]
  },
  {
   "cell_type": "code",
   "execution_count": 16,
   "metadata": {},
   "outputs": [
    {
     "data": {
      "text/plain": [
       "0.005028320616253578"
      ]
     },
     "execution_count": 16,
     "metadata": {},
     "output_type": "execute_result"
    }
   ],
   "source": [
    "ECMARMAX = (np.dot(e2,e2T))/8\n",
    "ECMARMAX"
   ]
  },
  {
   "cell_type": "code",
   "execution_count": 17,
   "metadata": {},
   "outputs": [
    {
     "data": {
      "text/plain": [
       "array([-0.034766  , -0.040166  ,  0.04882035, -0.09721131,  0.11924837,\n",
       "        0.03354492, -0.08387959,  0.01748313])"
      ]
     },
     "execution_count": 17,
     "metadata": {},
     "output_type": "execute_result"
    }
   ],
   "source": [
    "eT = np.transpose(e)\n",
    "eT"
   ]
  },
  {
   "cell_type": "code",
   "execution_count": 18,
   "metadata": {},
   "outputs": [
    {
     "data": {
      "text/plain": [
       "0.0046677912666269325"
      ]
     },
     "execution_count": 18,
     "metadata": {},
     "output_type": "execute_result"
    }
   ],
   "source": [
    "ECMARX = (np.dot(e,eT))/8\n",
    "ECMARX\n"
   ]
  },
  {
   "cell_type": "code",
   "execution_count": 19,
   "metadata": {},
   "outputs": [
    {
     "data": {
      "text/plain": [
       "(0.005028320616253578, 0.0046677912666269325)"
      ]
     },
     "execution_count": 19,
     "metadata": {},
     "output_type": "execute_result"
    }
   ],
   "source": [
    "ECMARMAX, ECMARX"
   ]
  },
  {
   "attachments": {},
   "cell_type": "markdown",
   "metadata": {},
   "source": [
    "## Ejercicio #2"
   ]
  },
  {
   "cell_type": "code",
   "execution_count": 20,
   "metadata": {},
   "outputs": [
    {
     "data": {
      "text/plain": [
       "(8,)"
      ]
     },
     "execution_count": 20,
     "metadata": {},
     "output_type": "execute_result"
    }
   ],
   "source": [
    "yn2=[-0.092550,0.801718,1.191506,1.562065,1.804596,1.852282,2.025160,1.842214]\n",
    "un2 =[1,1,1,1,1,1,1,1]\n",
    "\n",
    "np.shape(un2)"
   ]
  },
  {
   "cell_type": "code",
   "execution_count": 21,
   "metadata": {},
   "outputs": [
    {
     "data": {
      "text/plain": [
       "(8, 2)"
      ]
     },
     "execution_count": 21,
     "metadata": {},
     "output_type": "execute_result"
    }
   ],
   "source": [
    "ph2=[[0,0],[-0.092550,1],[0.801718,1],[1.191506,1],[1.562065,1],[1.804596,1],[1.852282,1],[2.025160,1]]\n",
    "np.shape(ph2)"
   ]
  },
  {
   "cell_type": "code",
   "execution_count": 22,
   "metadata": {},
   "outputs": [],
   "source": [
    "ph2T= np.transpose(ph2)\n",
    "phaux= np.dot(ph2T,ph2)"
   ]
  },
  {
   "cell_type": "code",
   "execution_count": 23,
   "metadata": {},
   "outputs": [],
   "source": [
    "phaux2= np.linalg.inv(phaux)"
   ]
  },
  {
   "cell_type": "code",
   "execution_count": 24,
   "metadata": {},
   "outputs": [
    {
     "data": {
      "text/plain": [
       "(2, 8)"
      ]
     },
     "execution_count": 24,
     "metadata": {},
     "output_type": "execute_result"
    }
   ],
   "source": [
    "ph2max = np.dot(phaux2,ph2T)\n",
    "np.shape(ph2max)"
   ]
  },
  {
   "cell_type": "code",
   "execution_count": 25,
   "metadata": {},
   "outputs": [
    {
     "data": {
      "text/plain": [
       "array([0.57004877, 0.83808173])"
      ]
     },
     "execution_count": 25,
     "metadata": {},
     "output_type": "execute_result"
    }
   ],
   "source": [
    "ThetaLS2 = np.dot(ph2max, yn2)\n",
    "ThetaLS2"
   ]
  },
  {
   "cell_type": "code",
   "execution_count": 26,
   "metadata": {},
   "outputs": [
    {
     "data": {
      "text/latex": [
       "$$\\frac{227.4}{z + 352}\\quad dt = 0.5$$"
      ],
      "text/plain": [
       "TransferFunction(array([227.4005]), array([  1.    , 352.0188]), 0.5)"
      ]
     },
     "execution_count": 26,
     "metadata": {},
     "output_type": "execute_result"
    }
   ],
   "source": [
    "num2 = [227.4005]\n",
    "den2 = [1,352.0188]\n",
    "T2=0.5\n",
    "Gz2 = tf(num2,den2,T2)\n",
    "Gz2"
   ]
  },
  {
   "cell_type": "code",
   "execution_count": 27,
   "metadata": {},
   "outputs": [
    {
     "name": "stdout",
     "output_type": "stream",
     "text": [
      "[ 0.00000000e+00  2.27400500e+02 -7.98218506e+04  2.80990195e+07\n",
      " -9.89138289e+09  3.48195274e+12 -1.22571282e+15  4.31473957e+17]\n"
     ]
    }
   ],
   "source": [
    "t,yd3 = step_response(Gz2,3.5)\n",
    "print(yd3)"
   ]
  },
  {
   "cell_type": "code",
   "execution_count": 28,
   "metadata": {},
   "outputs": [
    {
     "name": "stdout",
     "output_type": "stream",
     "text": [
      "[-9.25500000e-02 -2.26598782e+02  7.98230421e+04 -2.80990179e+07\n",
      "  9.89138289e+09 -3.48195274e+12  1.22571282e+15 -4.31473957e+17]\n"
     ]
    }
   ],
   "source": [
    "e3 = yn2 - yd3\n",
    "print(e3)"
   ]
  }
 ],
 "metadata": {
  "kernelspec": {
   "display_name": "Python 3",
   "language": "python",
   "name": "python3"
  },
  "language_info": {
   "codemirror_mode": {
    "name": "ipython",
    "version": 3
   },
   "file_extension": ".py",
   "mimetype": "text/x-python",
   "name": "python",
   "nbconvert_exporter": "python",
   "pygments_lexer": "ipython3",
   "version": "3.10.11"
  },
  "orig_nbformat": 4
 },
 "nbformat": 4,
 "nbformat_minor": 2
}
