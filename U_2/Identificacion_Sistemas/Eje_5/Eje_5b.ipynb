{
 "cells": [
  {
   "cell_type": "code",
   "execution_count": 1,
   "metadata": {},
   "outputs": [],
   "source": [
    "\"\"\"\n",
    "Ejercicio 5 b  - ARX MAX\n",
    "   \n",
    "@authors: Jeferson Gallego Chaverra\n",
    "          Pedro Alejendro Snachez Osorio\n",
    "          Victor Alfonso Moyano Echeverri \n",
    "\"\"\"\n",
    "import numpy as np \n",
    "from control import *"
   ]
  },
  {
   "cell_type": "code",
   "execution_count": 2,
   "metadata": {},
   "outputs": [],
   "source": [
    "yn =[-0.092550,0.801718,1.191506,1.562065,1.804596,1.852282,2.025160,1.842214]\n",
    "un =[1,1,1,1,1,1,1,1]"
   ]
  },
  {
   "attachments": {},
   "cell_type": "markdown",
   "metadata": {},
   "source": [
    "phi propuesto : -y[k-1], u[k-1]"
   ]
  },
  {
   "cell_type": "code",
   "execution_count": 3,
   "metadata": {},
   "outputs": [],
   "source": [
    "phi = [[0,0],[0.092550,1],[-0.801718,1],[-1.191506,1],[-1.562065,1],[-1.804596,1],[-1.852282,1],[-2.025160,1]]"
   ]
  },
  {
   "cell_type": "code",
   "execution_count": 4,
   "metadata": {},
   "outputs": [],
   "source": [
    "phiT = np.transpose(phi)"
   ]
  },
  {
   "cell_type": "code",
   "execution_count": 5,
   "metadata": {},
   "outputs": [],
   "source": [
    "phixphiT = np.dot(phiT, phi)"
   ]
  },
  {
   "cell_type": "code",
   "execution_count": 6,
   "metadata": {},
   "outputs": [],
   "source": [
    "phinv = np.linalg.inv(phixphiT)"
   ]
  },
  {
   "cell_type": "code",
   "execution_count": 7,
   "metadata": {},
   "outputs": [],
   "source": [
    "phimas = np.dot(phinv, phiT)"
   ]
  },
  {
   "cell_type": "code",
   "execution_count": 8,
   "metadata": {},
   "outputs": [
    {
     "data": {
      "text/plain": [
       "array([-0.57004877,  0.83808173])"
      ]
     },
     "execution_count": 8,
     "metadata": {},
     "output_type": "execute_result"
    }
   ],
   "source": [
    "ThetaLS = np.dot(phimas, yn)\n",
    "ThetaLS"
   ]
  },
  {
   "cell_type": "code",
   "execution_count": 9,
   "metadata": {},
   "outputs": [
    {
     "data": {
      "text/latex": [
       "$$\\frac{0.8381}{z - 0.57}\\quad dt = 0.5$$"
      ],
      "text/plain": [
       "TransferFunction(array([0.83808]), array([ 1.     , -0.57004]), 0.5)"
      ]
     },
     "execution_count": 9,
     "metadata": {},
     "output_type": "execute_result"
    }
   ],
   "source": [
    "num = [0.83808]\n",
    "den = [1, -0.57004]\n",
    "T = 0.5\n",
    "gs = tf(num, den, T)\n",
    "gs"
   ]
  },
  {
   "cell_type": "code",
   "execution_count": 10,
   "metadata": {},
   "outputs": [
    {
     "name": "stdout",
     "output_type": "stream",
     "text": [
      "[0.         0.83808    1.31581912 1.58814953 1.74338876 1.83188133\n",
      " 1.88232563 1.9110809 ]\n"
     ]
    }
   ],
   "source": [
    "t,yd = step_response(gs, 3.5)\n",
    "print(yd)"
   ]
  },
  {
   "cell_type": "code",
   "execution_count": 11,
   "metadata": {},
   "outputs": [
    {
     "data": {
      "text/plain": [
       "array([-0.09255   , -0.036362  , -0.12431312, -0.02608453,  0.06120724,\n",
       "        0.02040067,  0.14283437, -0.0688669 ])"
      ]
     },
     "execution_count": 11,
     "metadata": {},
     "output_type": "execute_result"
    }
   ],
   "source": [
    "e = yn - yd\n",
    "e"
   ]
  },
  {
   "attachments": {},
   "cell_type": "markdown",
   "metadata": {},
   "source": [
    "ARMAX"
   ]
  },
  {
   "attachments": {},
   "cell_type": "markdown",
   "metadata": {},
   "source": [
    "phi propuesto : -y[k-1], u[k-1, e[k-1]"
   ]
  },
  {
   "cell_type": "code",
   "execution_count": 12,
   "metadata": {},
   "outputs": [],
   "source": [
    "phi2 = [[0,0,0],[0.092550,1,-0.09255],[-0.801718,1,-0.036362],[-1.191506,1,0.83116512],[-1.562065,1,0.92939371],[-1.804596,1,1.32716394],[-1.852282,1,1.28635737],[-2.025160,1,1.50967968]]"
   ]
  },
  {
   "cell_type": "code",
   "execution_count": 13,
   "metadata": {},
   "outputs": [],
   "source": [
    "phi2T = np.transpose(phi2)"
   ]
  },
  {
   "cell_type": "code",
   "execution_count": 14,
   "metadata": {},
   "outputs": [],
   "source": [
    "phi2Txphi2 = np.dot(phi2T, phi2)"
   ]
  },
  {
   "cell_type": "code",
   "execution_count": 15,
   "metadata": {},
   "outputs": [],
   "source": [
    "phi2inv = np.linalg.inv(phi2Txphi2)"
   ]
  },
  {
   "cell_type": "code",
   "execution_count": 16,
   "metadata": {},
   "outputs": [],
   "source": [
    "phimas2 = np.dot(phi2inv, phi2T)"
   ]
  },
  {
   "cell_type": "code",
   "execution_count": 17,
   "metadata": {},
   "outputs": [
    {
     "data": {
      "text/plain": [
       "array([-0.47852848,  0.86551378,  0.11206349])"
      ]
     },
     "execution_count": 17,
     "metadata": {},
     "output_type": "execute_result"
    }
   ],
   "source": [
    "ThetaLS2 = np.dot(phimas2, yn)\n",
    "ThetaLS2"
   ]
  },
  {
   "cell_type": "code",
   "execution_count": 18,
   "metadata": {},
   "outputs": [
    {
     "data": {
      "text/latex": [
       "$$\\frac{0.8655}{z - 0.4785}\\quad dt = 0.5$$"
      ],
      "text/plain": [
       "TransferFunction(array([0.86551]), array([ 1.     , -0.47852]), 0.5)"
      ]
     },
     "execution_count": 18,
     "metadata": {},
     "output_type": "execute_result"
    }
   ],
   "source": [
    "num2 = [0.86551]\n",
    "den2 = [1, -0.47852]\n",
    "gs2 = tf(num2, den2, T)\n",
    "gs2"
   ]
  },
  {
   "cell_type": "code",
   "execution_count": 19,
   "metadata": {},
   "outputs": [
    {
     "name": "stdout",
     "output_type": "stream",
     "text": [
      "[0.         0.86551    1.27967385 1.47785953 1.57269534 1.61807617\n",
      " 1.63979181 1.65018318]\n"
     ]
    }
   ],
   "source": [
    "t,yd2 = step_response(gs2, 3.5)\n",
    "print(yd2)"
   ]
  },
  {
   "cell_type": "code",
   "execution_count": 20,
   "metadata": {},
   "outputs": [
    {
     "data": {
      "text/plain": [
       "array([-0.09255   , -0.063792  , -0.08816785,  0.08420547,  0.23190066,\n",
       "        0.23420583,  0.38536819,  0.19203082])"
      ]
     },
     "execution_count": 20,
     "metadata": {},
     "output_type": "execute_result"
    }
   ],
   "source": [
    "e2 = yn - yd2\n",
    "e2"
   ]
  },
  {
   "cell_type": "code",
   "execution_count": 21,
   "metadata": {},
   "outputs": [],
   "source": [
    "eT = np.transpose(e)\n",
    "eT2 = np.transpose(e2)"
   ]
  },
  {
   "cell_type": "code",
   "execution_count": 22,
   "metadata": {},
   "outputs": [
    {
     "data": {
      "text/plain": [
       "(0.0069160841976473745, 0.04018922672863866)"
      ]
     },
     "execution_count": 22,
     "metadata": {},
     "output_type": "execute_result"
    }
   ],
   "source": [
    "ECMARX = (np.dot(e, eT)/8)\n",
    "ECMARMAX = (np.dot(e2, eT2)/8)\n",
    "ECMARX, ECMARMAX"
   ]
  }
 ],
 "metadata": {
  "kernelspec": {
   "display_name": "Python 3",
   "language": "python",
   "name": "python3"
  },
  "language_info": {
   "codemirror_mode": {
    "name": "ipython",
    "version": 3
   },
   "file_extension": ".py",
   "mimetype": "text/x-python",
   "name": "python",
   "nbconvert_exporter": "python",
   "pygments_lexer": "ipython3",
   "version": "3.10.11"
  },
  "orig_nbformat": 4
 },
 "nbformat": 4,
 "nbformat_minor": 2
}
