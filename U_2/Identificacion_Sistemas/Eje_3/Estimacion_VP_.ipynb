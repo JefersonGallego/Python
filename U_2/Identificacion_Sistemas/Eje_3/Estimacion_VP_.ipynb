{
 "cells": [
  {
   "cell_type": "code",
   "execution_count": 1,
   "metadata": {},
   "outputs": [],
   "source": [
    "# Ejercicio 3   Estimacion con Vector de Pesos \n",
    "# JEFRSON GALLEGO, VICOR MOYANO, PEDRO SANCHEZ\n",
    "\n",
    "from sympy import MatrixSymbol, Matrix, Identity\n",
    "import sympy as sym\n",
    "import pandas as pd\n",
    "sym.init_printing()\n",
    "%matplotlib inline\n",
    "import pandas as pd\n",
    "import numpy as np\n",
    "import matplotlib.pyplot as plt\n",
    "import seaborn as sns\n",
    "import control\n",
    "import random"
   ]
  },
  {
   "cell_type": "code",
   "execution_count": 2,
   "metadata": {},
   "outputs": [],
   "source": [
    "N = 5\n",
    "t = np.linspace(0,4,5,dtype = \"int\")"
   ]
  },
  {
   "cell_type": "code",
   "execution_count": 3,
   "metadata": {},
   "outputs": [
    {
     "data": {
      "text/plain": [
       "(array([0, 1, 2, 3, 4]),\n",
       " array([7.0000e-03, 3.5096e+01, 6.0409e+01, 7.5900e+01, 8.1609e+01]))"
      ]
     },
     "execution_count": 3,
     "metadata": {},
     "output_type": "execute_result"
    }
   ],
   "source": [
    "ym = np.array([0.007, 35.096, 60.409, 75.9, 81.609])\n",
    "t,ym"
   ]
  },
  {
   "cell_type": "code",
   "execution_count": 4,
   "metadata": {},
   "outputs": [
    {
     "data": {
      "text/plain": [
       "array([[ 1.,  0.,  0.],\n",
       "       [ 1.,  1.,  1.],\n",
       "       [ 1.,  2.,  4.],\n",
       "       [ 1.,  3.,  9.],\n",
       "       [ 1.,  4., 16.]])"
      ]
     },
     "execution_count": 4,
     "metadata": {},
     "output_type": "execute_result"
    }
   ],
   "source": [
    "ones = np.ones(N)\n",
    "phi = np.array([ones, t, t**2]).transpose()\n",
    "phi"
   ]
  },
  {
   "cell_type": "code",
   "execution_count": 5,
   "metadata": {},
   "outputs": [
    {
     "data": {
      "text/plain": [
       "(array([[6.30e-02, 0.00e+00, 0.00e+00, 0.00e+00, 0.00e+00],\n",
       "        [0.00e+00, 6.20e-02, 0.00e+00, 0.00e+00, 0.00e+00],\n",
       "        [0.00e+00, 0.00e+00, 2.00e-01, 0.00e+00, 0.00e+00],\n",
       "        [0.00e+00, 0.00e+00, 0.00e+00, 1.56e+04, 0.00e+00],\n",
       "        [0.00e+00, 0.00e+00, 0.00e+00, 0.00e+00, 2.50e-01]]),\n",
       " array([[  0.25099801,   0.        ,   0.        ,   0.        ,\n",
       "           0.        ],\n",
       "        [  0.        ,   0.24899799,   0.        ,   0.        ,\n",
       "           0.        ],\n",
       "        [  0.        ,   0.        ,   0.4472136 ,   0.        ,\n",
       "           0.        ],\n",
       "        [  0.        ,   0.        ,   0.        , 124.89995997,\n",
       "           0.        ],\n",
       "        [  0.        ,   0.        ,   0.        ,   0.        ,\n",
       "           0.5       ]]))"
      ]
     },
     "execution_count": 5,
     "metadata": {},
     "output_type": "execute_result"
    }
   ],
   "source": [
    "# JUGAR CON EL VECTOR DE PESOS\n",
    "var = np.array([0.063,0.062,0.200,15600,0.25]) \n",
    "#var = np.array([0.060,0.070,0.261,15600,0.20]) \n",
    "#var = np.array([0.063,0.062,0.251,15625,0.25]) \n",
    "\n",
    "_var = var**0.5   # Saco Raiz\n",
    "W = np.eye(N)*var\n",
    "_W = np.eye(N)*_var    \n",
    "W ,_W"
   ]
  },
  {
   "cell_type": "code",
   "execution_count": 6,
   "metadata": {},
   "outputs": [
    {
     "data": {
      "text/plain": [
       "(array([1.75698606e-03, 8.73883353e+00, 2.70157261e+01, 9.47990696e+03,\n",
       "        4.08045000e+01]),\n",
       " array([[2.50998008e-01, 0.00000000e+00, 0.00000000e+00],\n",
       "        [2.48997992e-01, 2.48997992e-01, 2.48997992e-01],\n",
       "        [4.47213595e-01, 8.94427191e-01, 1.78885438e+00],\n",
       "        [1.24899960e+02, 3.74699880e+02, 1.12409964e+03],\n",
       "        [5.00000000e-01, 2.00000000e+00, 8.00000000e+00]]))"
      ]
     },
     "execution_count": 6,
     "metadata": {},
     "output_type": "execute_result"
    }
   ],
   "source": [
    "## Vectores \"y\" y \"phi\" Normalizados usando W\n",
    "_y = np.dot(_W,ym)\n",
    "_phi = np.dot(_W,phi)\n",
    "_y, _phi"
   ]
  },
  {
   "cell_type": "code",
   "execution_count": 7,
   "metadata": {},
   "outputs": [
    {
     "name": "stdout",
     "output_type": "stream",
     "text": [
      "Terminos Esperados: 0 40 -5 Terminos Estimados: 0.0095 39.99023 -4.8978\n"
     ]
    }
   ],
   "source": [
    "## Calculando los estimados THETA\n",
    "phi_pr = np.dot(_phi.transpose(),_phi)\n",
    "A = np.linalg.inv(phi_pr)\n",
    "B = np.dot(_phi.transpose(),_y)\n",
    "\n",
    "## Vector Theta = parámetros estimados\n",
    "# Esperado 0 , 40, -5\n",
    "Theta = np.dot(A,B)\n",
    "Esperado=np.array([0,40,-5])\n",
    "print(f\"Terminos Esperados: {Esperado[0]} {Esperado[1]} {Esperado[2]} Terminos Estimados: {round(Theta[0],5)} {round(Theta[1],5)} {round(Theta[2],5)}\")"
   ]
  }
 ],
 "metadata": {
  "kernelspec": {
   "display_name": "Python 3",
   "language": "python",
   "name": "python3"
  },
  "language_info": {
   "codemirror_mode": {
    "name": "ipython",
    "version": 3
   },
   "file_extension": ".py",
   "mimetype": "text/x-python",
   "name": "python",
   "nbconvert_exporter": "python",
   "pygments_lexer": "ipython3",
   "version": "3.10.11"
  },
  "orig_nbformat": 4
 },
 "nbformat": 4,
 "nbformat_minor": 2
}
