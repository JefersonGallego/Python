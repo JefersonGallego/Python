{
 "cells": [
  {
   "cell_type": "code",
   "execution_count": 1,
   "metadata": {},
   "outputs": [],
   "source": [
    "\"\"\"\n",
    "ARX Estimation - # State Space Model\n",
    "\n",
    "@author: Jeferson Gallego Chaverra\n",
    "\"\"\"\n",
    "\n",
    "from sympy import MatrixSymbol, Matrix, Identity\n",
    "import sympy as sym\n",
    "sym.init_printing()\n",
    "%matplotlib inline\n",
    "import numpy as np\n",
    "import matplotlib.pyplot as plt\n",
    "import control as cl\n",
    "\n",
    "def validar_Dato(frase):\n",
    "\n",
    "    while True:\n",
    "            valor= input(frase)     \n",
    "            if valor.isnumeric():\n",
    "                valor = int(valor)\n",
    "                break\n",
    "            else:\n",
    "                print('El dato ingresado no es numerico , por favor ingresar un dato numerico')\n",
    "\n",
    "    return valor\n",
    "\n",
    "def limites(frase,minimo,maximo):    \n",
    "    flag=True\n",
    "    while flag:\n",
    "        y=validar_Dato(frase)\n",
    "        if y<=maximo and y>=minimo:\n",
    "            flag=False\n",
    "        else:\n",
    "            print(f'El dato ingresado esta por fuera de los limites establecidos min {minimo} y max {maximo}')\n",
    "\n",
    "    return y\n"
   ]
  },
  {
   "attachments": {},
   "cell_type": "markdown",
   "metadata": {},
   "source": [
    "## Model\n",
    "$$A = \\begin{bmatrix}-2&-10\\\\1&0\\end{bmatrix}$$\n",
    "$$B = \\begin{bmatrix}1&0\\end{bmatrix}, C = \\begin{bmatrix}0&10\\end{bmatrix}, D = 0$$\n"
   ]
  },
  {
   "attachments": {},
   "cell_type": "markdown",
   "metadata": {},
   "source": [
    "## Simulation"
   ]
  },
  {
   "cell_type": "code",
   "execution_count": 2,
   "metadata": {},
   "outputs": [
    {
     "name": "stdout",
     "output_type": "stream",
     "text": [
      "100\n"
     ]
    },
    {
     "data": {
      "image/png": "[encoded data removed]",
      "text/plain": [
       "<Figure size 432x288 with 2 Axes>"
      ]
     },
     "metadata": {
      "needs_background": "light"
     },
     "output_type": "display_data"
    }
   ],
   "source": [
    "# State Space Model\n",
    "A = [[-2, -10],[1, 0]]\n",
    "B = [1, 0]\n",
    "C = [0, 10]\n",
    "D = [0]\n",
    "\n",
    "# Model Representation \n",
    "g = cl.StateSpace(A, B, C, D)\n",
    "\n",
    "# Step Response\n",
    "t,y = cl.step_response(g) \n",
    "N = len(y)\n",
    "u = np.ones(N)\n",
    "dt = t[1]-t[0]\n",
    "\n",
    "# Noise\n",
    "r = 0.01\n",
    "e = np.random.normal(0,r,size=N)\n",
    "yn = y+e\n",
    "\n",
    "# Plot\n",
    "ax=plt.subplot(2,1,1)\n",
    "ax.grid()\n",
    "plt.title(\"System Simulation\",fontsize = 14)\n",
    "plt.plot(t, yn, 'k', linewidth=2, label='Data Simulation')\n",
    "plt.ylabel('Y (t)', fontsize = 14)\n",
    "plt.legend(loc='best')\n",
    "            \n",
    "ax=plt.subplot(2,1,2)\n",
    "ax.grid()\n",
    "plt.plot(t, u, 'b-', linewidth=2, label='Step')\n",
    "plt.ylabel('Step (%)', fontsize = 14)\n",
    "plt.xlabel('Time (s)', fontsize = 14)\n",
    "plt.legend(loc='best')\n",
    "print(len(yn))\n",
    "plt.show()"
   ]
  },
  {
   "attachments": {},
   "cell_type": "markdown",
   "metadata": {},
   "source": [
    "## Model Ge\n",
    "$$G_e(z) = \\frac{B(z)}{A(z)}$$\n",
    "$$(1) = \\frac{b_1z^{-1}+b_2z^{-2}}{1+a_1z^{-1}+a_{2}z^{-2}}$$\n",
    "$$(2) = \\frac{b_1z^{-1}}{1+a_1z^{-1}+a_{2}z^{-2}}$$\n",
    "$$(3) = \\frac{b_1z^{-1}}{1+a_1z^{-1}}$$\n",
    "$$(4) = \\frac{b_1z^{-1}+b_2z^{-2}}{1+a_1z^{-1}}$$"
   ]
  },
  {
   "cell_type": "code",
   "execution_count": 3,
   "metadata": {},
   "outputs": [],
   "source": [
    "# Vectors of States\n",
    "y_1 = np.zeros(N)\n",
    "y_2 = np.zeros(N)\n",
    "u_1 = np.zeros(N)\n",
    "u_2 = np.zeros(N)\n",
    "x=0\n",
    "    \n",
    "for k in range(1,N):\n",
    "    y_1[k]=yn[k-1]\n",
    "    u_1[k]=u[k-1]\n",
    "for k in range(2,N):\n",
    "    y_2[k]=yn[k-2]\n",
    "    u_2[k]=u[k-2]\n",
    "\n",
    " "
   ]
  },
  {
   "attachments": {},
   "cell_type": "markdown",
   "metadata": {},
   "source": [
    "\n",
    "## $\\phi$ "
   ]
  },
  {
   "cell_type": "code",
   "execution_count": 4,
   "metadata": {},
   "outputs": [],
   "source": [
    "\n",
    "x =limites('Ingrese Tipo de Ge',1,4)\n",
    "\n",
    "## Phi Vector\n",
    "if x==1:\n",
    "        phi = np.array([-y_1,-y_2,u_1,u_2]).transpose()\n",
    "elif x == 2:\n",
    "        phi = np.array([-y_1,-y_2,u_1,]).transpose()\n",
    "elif x == 3:\n",
    "      phi = np.array([-y_1,u_1,]).transpose()\n",
    "elif x == 4:\n",
    "      phi = np.array([-y_1,u_1,u_2]).transpose()   "
   ]
  },
  {
   "attachments": {},
   "cell_type": "markdown",
   "metadata": {},
   "source": [
    "##  $\\theta$\n",
    "\n",
    "$$ \\theta = (\\theta^{T}\\theta)^{-1} \\theta^{T} yn \n"
   ]
  },
  {
   "cell_type": "code",
   "execution_count": 5,
   "metadata": {},
   "outputs": [
    {
     "data": {
      "text/plain": [
       "array([-0.47575774, -0.31383382,  0.0805256 ,  0.1370419 ])"
      ]
     },
     "execution_count": 5,
     "metadata": {},
     "output_type": "execute_result"
    }
   ],
   "source": [
    "alpha = 0.8\n",
    "A = np.dot(phi.T,phi) + alpha*np.eye(len(np.dot(phi.T,phi)))\n",
    "theta = np.dot(np.linalg.inv(A),np.dot(phi.T,yn))\n",
    "theta"
   ]
  },
  {
   "attachments": {},
   "cell_type": "markdown",
   "metadata": {},
   "source": [
    "## Polinomial\n",
    "## Transfer Function\n",
    "$$G_e(z) = \\frac{B(z)}{A(z)}$$"
   ]
  },
  {
   "cell_type": "code",
   "execution_count": 6,
   "metadata": {},
   "outputs": [
    {
     "data": {
      "image/png": "[encoded data removed]",
      "text/plain": [
       "<Figure size 432x288 with 1 Axes>"
      ]
     },
     "metadata": {
      "needs_background": "light"
     },
     "output_type": "display_data"
    }
   ],
   "source": [
    "z = sym.symbols('z', complex=True) # z=Simbolo\n",
    "\n",
    "# Polinomial B(z) / A(z)\n",
    "\n",
    "if x==1:\n",
    "       A = 1 + theta[0]*z**-1 + theta[1]*z**-2  \n",
    "       B = theta[2]*z**-1 + theta[3]*z**-2\n",
    "elif x == 2:\n",
    "       A = 1 + theta[0]*z**-1 + theta[1]*z**-2  \n",
    "       B = theta[2]*z**-1\n",
    "elif x == 3:\n",
    "       A = 1 + theta[0]*z**-1\n",
    "       B = theta[1]*z**-1\n",
    "elif x ==4:\n",
    "       A = 1 + theta[0]*z**-1 \n",
    "       B = theta[1]*z**-1 + theta[2]*z**-2\n",
    "\n",
    "G = B/A\n",
    "G = G.simplify()\n",
    "\n",
    "# Transfer Function Estimation\n",
    "\n",
    "if x==1:\n",
    "       #G_1\n",
    "       G_e = cl.tf([theta[2], theta[3]],[1, theta[0], theta[1]],dt) \n",
    "elif x == 2:\n",
    "       #G_1\n",
    "       G_e = cl.tf([theta[2]],[1, theta[0], theta[1]],dt)\n",
    "elif x == 3:\n",
    "       #G_3\n",
    "       G_e = cl.tf([theta[1]],[1, theta[0],],dt) \n",
    "elif x ==4:\n",
    "       #G_4\n",
    "       G_e = cl.tf([theta[1], theta[2]],[1, theta[0]],dt)\n",
    " \n",
    "# Step Response\n",
    "td,ye = cl.step_response(G_e)\n",
    "\n",
    "# ECM FT\n",
    "ECM = np.sqrt(np.dot((yn-ye[0:100]).transpose(),(yn-ye[0:100])))/len(yn)\n",
    "\n",
    "plt.plot(t,yn,'k', linewidth=2, label='Data Simulation')\n",
    "plt.plot(td,ye, 'b-', linewidth=2, label='Response Escalon FT Estimated')\n",
    "plt.xlim([0, t[len(t)-1]])\n",
    "plt.title(\"1. System Estimation \",fontsize = 14)\n",
    "plt.ylabel('Y (t)')\n",
    "plt.xlabel('Time (s)')\n",
    "plt.legend(loc= 'best')\n",
    "plt.grid()\n",
    "plt.show()"
   ]
  },
  {
   "cell_type": "code",
   "execution_count": 7,
   "metadata": {},
   "outputs": [
    {
     "name": "stdout",
     "output_type": "stream",
     "text": [
      "\n",
      "   0.08053 z + 0.137\n",
      "-----------------------\n",
      "z^2 - 0.4758 z - 0.3138\n",
      "\n",
      "dt = 0.06977530584830444\n",
      "\n",
      "0.013301800921589925\n"
     ]
    }
   ],
   "source": [
    "## FT  Estimated \n",
    "print(G_e )\n",
    "print(ECM)"
   ]
  },
  {
   "attachments": {},
   "cell_type": "markdown",
   "metadata": {},
   "source": [
    "## Y_r [k]\n",
    "\n",
    "$$y_e[k] = (1 - A)*y[k] + B*u[k]$$"
   ]
  },
  {
   "attachments": {},
   "cell_type": "markdown",
   "metadata": {},
   "source": [
    "$$(1) = y_e[k] = - a_1*y[k-1] - a_2*y[k-2] + b_1*u[k-1] + b_2*u[k-2]$$\n",
    "$$(2) = y_e[k] = - a_1*y[k-1] - a_2*y[k-2] + b_1*u[k-1]$$\n",
    "$$(3) = y_e[k] = - a_1*y[k-1] + b_1*u[k-1]$$\n",
    "$$(4) = y_e[k] = - a_1*y[k-1] + b_1*u[k-1] + b_2*u[k-2]$$"
   ]
  },
  {
   "cell_type": "code",
   "execution_count": 8,
   "metadata": {},
   "outputs": [
    {
     "data": {
      "image/png": "[encoded data removed]",
      "text/plain": [
       "<Figure size 432x288 with 1 Axes>"
      ]
     },
     "metadata": {
      "needs_background": "light"
     },
     "output_type": "display_data"
    },
    {
     "name": "stdout",
     "output_type": "stream",
     "text": [
      "0.004584894783418706\n"
     ]
    }
   ],
   "source": [
    "# Response Y[K]=  Estimated Response\n",
    "\n",
    "if x==1:\n",
    "       #G_1\n",
    "       yr = -theta[0]*y_1-theta[1]*y_2+theta[2]*u_1+theta[3]*u_2\n",
    "elif x == 2:\n",
    "       #G_2\n",
    "       yr = -theta[0]*y_1-theta[1]*y_2+theta[2]*u_1\n",
    "elif x == 3:\n",
    "       #G_3\n",
    "       yr = -theta[0]*y_1+theta[1]*u_1\n",
    "elif x ==4:\n",
    "       #G_4\n",
    "       yr = -theta[0]*y_1+theta[1]*u_1+theta[2]*u_2\n",
    "\n",
    "# ECM Yr\n",
    "ECM = np.sqrt(np.dot((yn[0:len(yr)]-yr[0:len(yr)]).transpose(),(yn[0:len(yr)]-yr[0:len(yr)])))/len(yr)\n",
    "\n",
    "# Plot\n",
    "plt.plot(t,yn,'k', linewidth=2, label='Data Simulation')\n",
    "plt.plot(td,ye, 'b-', linewidth=2, label='Response Escalon FT Estimated')\n",
    "plt.plot(t,yr, 'r--', linewidth=2, label='Y [k]')\n",
    "plt.xlim([0, t[len(t)-1]])\n",
    "plt.title(\"2. System Estimation \",fontsize = 14)\n",
    "plt.ylabel('Y (t)')\n",
    "plt.xlabel('Time (s)')\n",
    "plt.legend(loc= 'best')\n",
    "plt.grid()\n",
    "plt.show()\n",
    "print(ECM)"
   ]
  }
 ],
 "metadata": {
  "kernelspec": {
   "display_name": "Python 3",
   "language": "python",
   "name": "python3"
  },
  "language_info": {
   "codemirror_mode": {
    "name": "ipython",
    "version": 3
   },
   "file_extension": ".py",
   "mimetype": "text/x-python",
   "name": "python",
   "nbconvert_exporter": "python",
   "pygments_lexer": "ipython3",
   "version": "3.10.11"
  },
  "orig_nbformat": 4
 },
 "nbformat": 4,
 "nbformat_minor": 2
}
