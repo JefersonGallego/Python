{
 "cells": [
  {
   "cell_type": "code",
   "execution_count": 1,
   "metadata": {},
   "outputs": [],
   "source": [
    "import numpy as np\n",
    "import serial"
   ]
  },
  {
   "cell_type": "code",
   "execution_count": 4,
   "metadata": {},
   "outputs": [],
   "source": [
    "def vlr_pertenencia(x):\n",
    "    if 25.0 <= x < 40.0:\n",
    "        return [1, 0, 0]\n",
    "    elif 40.0 <= x < 55.0:\n",
    "        return [0, 1, 0]\n",
    "    elif 55.0 <= x <= 75.0:\n",
    "        return [0, 0, 1]"
   ]
  },
  {
   "cell_type": "code",
   "execution_count": null,
   "metadata": {},
   "outputs": [],
   "source": [
    "dato = serial.Serial('COM3',115200)  # Abre puerto serial @ 155200 bauds:"
   ]
  },
  {
   "cell_type": "code",
   "execution_count": 1,
   "metadata": {},
   "outputs": [
    {
     "name": "stdout",
     "output_type": "stream",
     "text": [
      "The bold text is \u001b[1mPython\u001b[0m\n"
     ]
    }
   ],
   "source": [
    "#Algoritmo \n",
    "uart = serial.Serial('/dev/ttyACM1', 115200)    # Defino puerto COM3\n",
    "uart.isOpen()                                   # Verifico opne puerto\n",
    "\n",
    "flg_adc = 'm'                                   # Comando de converción ADC\n",
    "while (True):\n",
    " \n",
    "    flg_adc = input(str(\"Ingrese el caracter m para leer temperatura: \"))\n",
    "    if flg_adc == 'm':\n",
    "\n",
    "# por puerto serial se envían solo bytes\n",
    "        flg_adc = str.encode(flg_adc)                   # convierte a bytes\n",
    "\n",
    "# ahora se transfiere la bandera de control por puerto serial al arduino\n",
    "        uart.write(flg_adc)\n",
    "        \n",
    "# leemos el dato enviado por el uC\n",
    "        Tm = uart.readline()\n",
    "\n",
    "# conversión de bytes a float\n",
    "        Tm = float(Tm)\n",
    "        print(f'\\nLa temperatura es: {Tm}')\n",
    "\n",
    "# Codificamos una función que retorne un arreglo numpy\n",
    "# con valores de pertenencia de Tm = 47.46\n",
    "\n",
    "        vlrs = vlr_pertenencia(Tm)\n",
    "        print(f'El valor de pertenencia es: {vlrs}\\n')"
   ]
  }
 ],
 "metadata": {
  "kernelspec": {
   "display_name": "Python 3.10.5 64-bit (windows store)",
   "language": "python",
   "name": "python3"
  },
  "language_info": {
   "codemirror_mode": {
    "name": "ipython",
    "version": 3
   },
   "file_extension": ".py",
   "mimetype": "text/x-python",
   "name": "python",
   "nbconvert_exporter": "python",
   "pygments_lexer": "ipython3",
   "version": "3.10.7"
  },
  "orig_nbformat": 4,
  "vscode": {
   "interpreter": {
    "hash": "3e3ceff17060fd002d4d62eec5139caa87219c0d6c8d65a47d37c469b23d7813"
   }
  }
 },
 "nbformat": 4,
 "nbformat_minor": 2
}
