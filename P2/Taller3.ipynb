{
 "cells": [
  {
   "cell_type": "code",
   "execution_count": null,
   "metadata": {},
   "outputs": [],
   "source": [
    "import numpy as np\n",
    "import matplotlib as mt"
   ]
  },
  {
   "cell_type": "code",
   "execution_count": null,
   "metadata": {},
   "outputs": [],
   "source": [
    "# Funciones\n",
    "\n",
    "def limites(minimo,maximo):   #funcion para validad que el dato este en un rango deseado\n",
    "    \n",
    "    flag=True\n",
    "    while flag:\n",
    "        y=ensayo()\n",
    "        if y<=maximo and y>=minimo:\n",
    "            flag=False\n",
    "        else:\n",
    "            print(f'El dato ingresado esta por fuera de los limites establecidos min {minimo} y max {maximo}')\n",
    "\n",
    "    return y\n",
    "\n",
    "def ensayo (): \n",
    "    flag=True\n",
    "    while flag :\n",
    "        dato = input(\"Ingrese dato: \")\n",
    "        num = None\n",
    "        for conv in (float,int):\n",
    "            try:\n",
    "                num = conv(dato)\n",
    "                flag=False\n",
    "                break\n",
    "            except ValueError:\n",
    "                pass\n",
    "\n",
    "        if num is None:\n",
    "            print(\"El dato de entrada debe de ser decimal\")\n",
    "        else:\n",
    "            print(\"\")\n",
    "    return num"
   ]
  },
  {
   "cell_type": "code",
   "execution_count": 1,
   "metadata": {},
   "outputs": [
    {
     "name": "stdout",
     "output_type": "stream",
     "text": [
      "The bold text is \u001b[1mPython\u001b[0m\n"
     ]
    }
   ],
   "source": [
    "\n",
    "print(\"The bold text is\",'\\033[1m' + 'Python' + '\\033[0m')"
   ]
  }
 ],
 "metadata": {
  "kernelspec": {
   "display_name": "Python 3.10.5 64-bit (windows store)",
   "language": "python",
   "name": "python3"
  },
  "language_info": {
   "codemirror_mode": {
    "name": "ipython",
    "version": 3
   },
   "file_extension": ".py",
   "mimetype": "text/x-python",
   "name": "python",
   "nbconvert_exporter": "python",
   "pygments_lexer": "ipython3",
   "version": "3.10.7"
  },
  "orig_nbformat": 4,
  "vscode": {
   "interpreter": {
    "hash": "3e3ceff17060fd002d4d62eec5139caa87219c0d6c8d65a47d37c469b23d7813"
   }
  }
 },
 "nbformat": 4,
 "nbformat_minor": 2
}
