{
 "cells": [
  {
   "cell_type": "code",
   "execution_count": 1,
   "metadata": {},
   "outputs": [],
   "source": [
    "import time, serial\n",
    "import numpy as np\n",
    "import pandas as pd\n",
    "import scipy as sp\n",
    "import skfuzzy as fz\n",
    "import matplotlib.pyplot as plt"
   ]
  },
  {
   "cell_type": "code",
   "execution_count": 2,
   "metadata": {},
   "outputs": [
    {
     "data": {
      "text/plain": [
       "'\\nanmb = fz.trapmf (W, [180.0, 180.0, 160.0, 150.0]) # conjunto ángulo de disparo muy bajo\\nanb  = fz.trapmf (W, [160.0, 150.0, 130.0, 100.0]) # conjunto ángulo de disparo bajo\\nanm  = fz.trimf  (W, [110.0, 90.0, 70.0])          # conjunto ángulo de disparo medio\\nana  = fz.trapmf (W, [80.0, 60.0, 40.0, 20.0])     # conjunto ángulo de disparo alto\\nanma = fz.trapmf (W, [30.0 , 10.0, 0.0, 0.0])      # conjunto ángulo de disparo muy alto\\n'"
      ]
     },
     "execution_count": 2,
     "metadata": {},
     "output_type": "execute_result"
    }
   ],
   "source": [
    "# Universo del discurso del error (U)\n",
    "U = np.arange(-75.0, 55.1, 0.1)             \n",
    "\n",
    "etmn = fz.trapmf (U, [-75.0, -75.0, -45.0, -35.0]) # conjunto error temp muy bajo\n",
    "etn  = fz.trapmf (U, [-45.0, -35.0, -15.0, -3.0]) # conjunto error temp bajo\n",
    "etz  = fz.trimf  (U, [-5.0, 0.0, 5.0])           # conjunto error temp zero\n",
    "etp  = fz.trapmf (U, [3.0, 15.0, 35.0, 45.0])      # conjunto error temp alto\n",
    "etmp = fz.trapmf (U, [35.0, 45.0, 55.0, 55.0])            # conjunto error temp muy alto\n",
    "\n",
    "# Universo del discurso de la derivada del error (V)\n",
    "V = np.arange(-10.0, 10.1, 0.1)\n",
    "\n",
    "demn = fz.trapmf (V, [-10.0, -10.0, -8.0, -5.0])  # conjunto derivada del error muy bajo\n",
    "den  = fz.trapmf (V, [-8.0, -6.0, -2.0, -0.5])    # conjunto derivada del error bajo\n",
    "dez  = fz.trimf  (V, [-1.0, 0.0, 1.0])            # conjunto derivada del error zero\n",
    "dep  = fz.trapmf (V, [0.5, 2.0, 6.0, 8.0])        # conjunto derivdad del error alto\n",
    "demp = fz.trapmf (V, [5.0, 8.0, 10.0, 10.0])      # conjunto derivada del error muy alto\n",
    "\n",
    "# Universo del discuroso del angulo de disparo (W)\n",
    "W = np.arange(0.0, 180.1, 1.0)\n",
    "\n",
    "anma = fz.trapmf (W, [0.0, 0.0, 10.0, 30.0])       # conjunto ángulo de disparo muy alto\n",
    "ana  = fz.trapmf (W, [20.0, 40.0, 70.0, 85.0])     # conjunto ángulo de disparo alto\n",
    "anm  = fz.trimf  (W, [80.0, 90.0, 100.0])          # conjunto ángulo de disparo medio\n",
    "anb  = fz.trapmf (W, [95.0, 110.0, 140.0, 160.0]) # conjunto ángulo de disparo bajo\n",
    "anmb = fz.trapmf (W, [150.0, 170.0, 180.0, 180.0]) # conjunto ángulo de disparo muy bajo\n",
    "\n",
    "\"\"\"\n",
    "anmb = fz.trapmf (W, [180.0, 180.0, 160.0, 150.0]) # conjunto ángulo de disparo muy bajo\n",
    "anb  = fz.trapmf (W, [160.0, 150.0, 130.0, 100.0]) # conjunto ángulo de disparo bajo\n",
    "anm  = fz.trimf  (W, [110.0, 90.0, 70.0])          # conjunto ángulo de disparo medio\n",
    "ana  = fz.trapmf (W, [80.0, 60.0, 40.0, 20.0])     # conjunto ángulo de disparo alto\n",
    "anma = fz.trapmf (W, [30.0 , 10.0, 0.0, 0.0])      # conjunto ángulo de disparo muy alto\n",
    "\"\"\""
   ]
  },
  {
   "cell_type": "code",
   "execution_count": 3,
   "metadata": {},
   "outputs": [
    {
     "data": {
      "image/png": "[encoded data removed]",
      "text/plain": [
       "<Figure size 432x288 with 1 Axes>"
      ]
     },
     "metadata": {
      "needs_background": "light"
     },
     "output_type": "display_data"
    }
   ],
   "source": [
    "#plt.plot(U, etmn, U, etn, U, etz, U, etp, U, etmp)  # conjunto del error\n",
    "#plt.plot(V, demn, V, den, V, dez, V, dep, V, demp)  # conjunto derivada del error\n",
    "plt.plot(W, anma, W, ana, W, anm, W , anb, W, anmb) # conjunto ángulo de disparo\n",
    "plt.show()"
   ]
  },
  {
   "cell_type": "code",
   "execution_count": null,
   "metadata": {},
   "outputs": [],
   "source": []
  }
 ],
 "metadata": {
  "kernelspec": {
   "display_name": "Python 3.9.13 ('base')",
   "language": "python",
   "name": "python3"
  },
  "language_info": {
   "codemirror_mode": {
    "name": "ipython",
    "version": 3
   },
   "file_extension": ".py",
   "mimetype": "text/x-python",
   "name": "python",
   "nbconvert_exporter": "python",
   "pygments_lexer": "ipython3",
   "version": "3.10.11"
  },
  "orig_nbformat": 4,
  "vscode": {
   "interpreter": {
    "hash": "a05f93782d31fb45d30263a0389582a01d7e14abf3ec6aacde92652303ee35ce"
   }
  }
 },
 "nbformat": 4,
 "nbformat_minor": 2
}
